{
 "cells": [
  {
   "cell_type": "code",
   "execution_count": 2,
   "metadata": {},
   "outputs": [],
   "source": [
    "import numpy as np\n",
    "import matplotlib.pyplot as plt\n",
    "from matplotlib.collections import LineCollection"
   ]
  },
  {
   "cell_type": "code",
   "execution_count": 39,
   "metadata": {},
   "outputs": [
    {
     "data": {
      "image/png": "[encoded data removed]",
      "text/plain": [
       "<Figure size 640x480 with 1 Axes>"
      ]
     },
     "metadata": {},
     "output_type": "display_data"
    }
   ],
   "source": [
    "spacing = np.linspace(0, 3, 22)\n",
    "\n",
    "x, y = np.meshgrid(spacing, spacing)\n",
    "\n",
    "# x[:][5] = 0\n",
    "\n",
    "# x = np.append(x[:][:5],x[:][5:])\n",
    "# print(x)\n",
    "\n",
    "fig, ax = plt.subplots(1)\n",
    "\n",
    "ax.autoscale()\n",
    "ax.set_axis_off()\n",
    "\n",
    "vertical_plots = ax.plot(x, y, color=\"black\")\n",
    "horizontal_plots = ax.plot(x.transpose(), y.transpose(), color=\"black\")\n",
    "\n",
    "plt.show()"
   ]
  }
 ],
 "metadata": {
  "kernelspec": {
   "display_name": "candidacy",
   "language": "python",
   "name": "python3"
  },
  "language_info": {
   "codemirror_mode": {
    "name": "ipython",
    "version": 3
   },
   "file_extension": ".py",
   "mimetype": "text/x-python",
   "name": "python",
   "nbconvert_exporter": "python",
   "pygments_lexer": "ipython3",
   "version": "3.8.10"
  },
  "orig_nbformat": 4
 },
 "nbformat": 4,
 "nbformat_minor": 2
}
